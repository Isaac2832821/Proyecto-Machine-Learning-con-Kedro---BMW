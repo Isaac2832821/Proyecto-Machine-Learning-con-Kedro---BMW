{
 "cells": [
  {
   "cell_type": "markdown",
   "id": "c09b64b6",
   "metadata": {},
   "source": [
    "# Fase 4 - Modelado\n",
    "\n",
    "En esta fase entrenaremos un modelo de **Regresión Lineal** para predecir el precio de los autos BMW.  \n",
    "Se dividirán los datos en entrenamiento y prueba, se ajustará el modelo y se evaluará el rendimiento."
   ]
  },
  {
   "cell_type": "code",
   "execution_count": 40,
   "id": "fbd2254a",
   "metadata": {
    "vscode": {
     "languageId": "plaintext"
    }
   },
   "outputs": [],
   "source": [
    "import os\n",
    "import joblib\n",
    "import pandas as pd\n",
    "import matplotlib.pyplot as plt\n",
    "import seaborn as sns\n",
    "\n",
    "from sklearn.model_selection import train_test_split\n",
    "from sklearn.preprocessing import OneHotEncoder, StandardScaler\n",
    "from sklearn.compose import ColumnTransformer\n",
    "from sklearn.pipeline import Pipeline\n",
    "from sklearn.linear_model import LinearRegression\n",
    "from sklearn.metrics import mean_squared_error, r2_score"
   ]
  },
  {
   "cell_type": "code",
   "execution_count": 42,
   "id": "1098f207",
   "metadata": {
    "vscode": {
     "languageId": "plaintext"
    }
   },
   "outputs": [
    {
     "name": "stdout",
     "output_type": "stream",
     "text": [
      "✅ Dataset cargado\n",
      "      Model  Year         Region  Color Fuel_Type Transmission  Engine_Size_L  \\\n",
      "0  5 Series  2016           Asia    Red    Petrol       Manual            3.5   \n",
      "1        i8  2013  North America    Red    Hybrid    Automatic            1.6   \n",
      "2  5 Series  2022  North America   Blue    Petrol    Automatic            4.5   \n",
      "3        X3  2024    Middle East   Blue    Petrol    Automatic            1.7   \n",
      "4  7 Series  2020  South America  Black    Diesel       Manual            2.1   \n",
      "\n",
      "   Mileage_KM  Price_USD  Sales_Volume Sales_Classification  car_age  \n",
      "0      151748      98740          8300                 High        9  \n",
      "1      121671      79219          3428                  Low       12  \n",
      "2       10991     113265          6994                  Low        3  \n",
      "3       27255      60971          4047                  Low        1  \n",
      "4      122131      49898          3080                  Low        5  \n",
      "Index(['Model', 'Year', 'Region', 'Color', 'Fuel_Type', 'Transmission',\n",
      "       'Engine_Size_L', 'Mileage_KM', 'Price_USD', 'Sales_Volume',\n",
      "       'Sales_Classification', 'car_age'],\n",
      "      dtype='object')\n"
     ]
    }
   ],
   "source": [
    "df = pd.read_csv(\"../data/03_primary/bmw_sales_clean.csv\")\n",
    "print(\"✅ Dataset cargado\")\n",
    "print(df.head())\n",
    "print(df.columns)"
   ]
  },
  {
   "cell_type": "code",
   "execution_count": 43,
   "id": "bfeeda8d",
   "metadata": {
    "vscode": {
     "languageId": "plaintext"
    }
   },
   "outputs": [
    {
     "name": "stdout",
     "output_type": "stream",
     "text": [
      "✅ Datos separados en entrenamiento y prueba\n"
     ]
    }
   ],
   "source": [
    "X = df.drop(columns=[\"Price_USD\"])\n",
    "y = df[\"Price_USD\"]\n",
    "\n",
    "# dividir en train/test\n",
    "X_train, X_test, y_train, y_test = train_test_split(\n",
    "    X, y, test_size=0.2, random_state=42\n",
    ")\n",
    "\n",
    "print(\"✅ Datos separados en entrenamiento y prueba\")"
   ]
  },
  {
   "cell_type": "code",
   "execution_count": 44,
   "id": "54d37530",
   "metadata": {
    "vscode": {
     "languageId": "plaintext"
    }
   },
   "outputs": [],
   "source": [
    "numeric_features = [\"Year\", \"Engine_Size_L\", \"Mileage_KM\", \"Sales_Volume\"]\n",
    "categorical_features = [\n",
    "    \"Model\", \"Region\", \"Color\", \"Fuel_Type\", \"Transmission\", \"Sales_Classification\"\n",
    "]\n",
    "\n",
    "numeric_transformer = StandardScaler()\n",
    "categorical_transformer = OneHotEncoder(handle_unknown=\"ignore\")\n",
    "\n",
    "preprocessor = ColumnTransformer(\n",
    "    transformers=[\n",
    "        (\"num\", numeric_transformer, numeric_features),\n",
    "        (\"cat\", categorical_transformer, categorical_features)\n",
    "    ]\n",
    ")"
   ]
  },
  {
   "cell_type": "code",
   "execution_count": 45,
   "id": "124ddc9e-93b5-4c4a-87b7-c5004eef83e1",
   "metadata": {},
   "outputs": [
    {
     "name": "stdout",
     "output_type": "stream",
     "text": [
      "✅ Modelo entrenado\n"
     ]
    }
   ],
   "source": [
    "pipeline = Pipeline(steps=[\n",
    "    (\"preprocessor\", preprocessor),\n",
    "    (\"regressor\", LinearRegression())\n",
    "])\n",
    "\n",
    "pipeline.fit(X_train, y_train)\n",
    "print(\"✅ Modelo entrenado\")"
   ]
  },
  {
   "cell_type": "code",
   "execution_count": 46,
   "id": "d11f216b-b9d0-4599-b9f5-237909aefb27",
   "metadata": {},
   "outputs": [
    {
     "name": "stdout",
     "output_type": "stream",
     "text": [
      "📊 MSE: 677756380.65\n",
      "📊 R2: -0.00\n"
     ]
    }
   ],
   "source": [
    "y_pred = pipeline.predict(X_test)\n",
    "\n",
    "mse = mean_squared_error(y_test, y_pred)\n",
    "r2 = r2_score(y_test, y_pred)\n",
    "\n",
    "print(f\"📊 MSE: {mse:.2f}\")\n",
    "print(f\"📊 R2: {r2:.2f}\")"
   ]
  },
  {
   "cell_type": "code",
   "execution_count": 47,
   "id": "6d1731ea-015a-4d40-a5b5-75cf3dfa741b",
   "metadata": {},
   "outputs": [
    {
     "name": "stdout",
     "output_type": "stream",
     "text": [
      "✅ Modelo guardado en ../data/06_models/bmw_price_model.pkl\n"
     ]
    }
   ],
   "source": [
    "os.makedirs(\"../data/06_models\", exist_ok=True)\n",
    "joblib.dump(pipeline, \"../data/06_models/bmw_price_model.pkl\")\n",
    "print(\"✅ Modelo guardado en ../data/06_models/bmw_price_model.pkl\")"
   ]
  },
  {
   "cell_type": "code",
   "execution_count": 48,
   "id": "3eea4f03-327f-469e-8baa-7eb4275f1132",
   "metadata": {},
   "outputs": [
    {
     "name": "stderr",
     "output_type": "stream",
     "text": [
      "C:\\Users\\franc\\AppData\\Local\\Temp\\ipykernel_12108\\3694027386.py:12: FutureWarning: \n",
      "\n",
      "Passing `palette` without assigning `hue` is deprecated and will be removed in v0.14.0. Assign the `y` variable to `hue` and set `legend=False` for the same effect.\n",
      "\n",
      "  sns.barplot(x=\"Coeficiente\", y=\"Feature\", data=coeficientes.head(15), palette=\"viridis\")\n"
     ]
    },
    {
     "data": {
      "image/png": "[encoded data removed]",
      "text/plain": [
       "<Figure size 1000x600 with 1 Axes>"
      ]
     },
     "metadata": {},
     "output_type": "display_data"
    }
   ],
   "source": [
    "# Extraer coeficientes\n",
    "feature_names = (\n",
    "    numeric_features +\n",
    "    list(pipeline.named_steps[\"preprocessor\"].transformers_[1][1].get_feature_names_out(categorical_features))\n",
    ")\n",
    "coeficientes = pd.DataFrame({\n",
    "    \"Feature\": feature_names,\n",
    "    \"Coeficiente\": pipeline.named_steps[\"regressor\"].coef_\n",
    "}).sort_values(by=\"Coeficiente\", ascending=False)\n",
    "\n",
    "plt.figure(figsize=(10,6))\n",
    "sns.barplot(x=\"Coeficiente\", y=\"Feature\", data=coeficientes.head(15), palette=\"viridis\")\n",
    "plt.title(\"Top 15 coeficientes del modelo\")\n",
    "plt.show()"
   ]
  },
  {
   "cell_type": "code",
   "execution_count": null,
   "id": "011dc09f-8410-4d5e-b1bd-e80e73ca080d",
   "metadata": {},
   "outputs": [],
   "source": []
  }
 ],
 "metadata": {
  "kernelspec": {
   "display_name": "Python 3 (ipykernel)",
   "language": "python",
   "name": "python3"
  },
  "language_info": {
   "codemirror_mode": {
    "name": "ipython",
    "version": 3
   },
   "file_extension": ".py",
   "mimetype": "text/x-python",
   "name": "python",
   "nbconvert_exporter": "python",
   "pygments_lexer": "ipython3",
   "version": "3.11.9"
  }
 },
 "nbformat": 4,
 "nbformat_minor": 5
}
