{
 "cells": [
  {
   "cell_type": "markdown",
   "id": "248badae",
   "metadata": {},
   "source": [
    "# Fase 6 - Deployment\n",
    "En esta fase mostramos cómo usar el modelo entrenado (`linear_regression.pkl`) \n",
    "para predecir el precio de un auto BMW nuevo.\n"
   ]
  },
  {
   "cell_type": "code",
   "execution_count": 4,
   "id": "643baf52",
   "metadata": {
    "vscode": {
     "languageId": "plaintext"
    }
   },
   "outputs": [],
   "source": [
    "import pandas as pd\n",
    "import joblib\n",
    "import pickle"
   ]
  },
  {
   "cell_type": "code",
   "execution_count": 2,
   "id": "1671336d-6662-48c3-9d3b-fb68a45e0ded",
   "metadata": {},
   "outputs": [
    {
     "name": "stdout",
     "output_type": "stream",
     "text": [
      "✅ Modelo cargado para despliegue\n"
     ]
    }
   ],
   "source": [
    "# Ruta del modelo entrenado\n",
    "model_path = \"../data/06_models/bmw_price_model.pkl\"\n",
    "\n",
    "# Cargar el pipeline completo (con OneHotEncoder + StandardScaler + LinearRegression)\n",
    "pipeline = joblib.load(model_path)\n",
    "\n",
    "print(\"✅ Modelo cargado para despliegue\")"
   ]
  },
  {
   "cell_type": "code",
   "execution_count": 3,
   "id": "922105c9-6ad8-4696-920f-921295376007",
   "metadata": {},
   "outputs": [
    {
     "name": "stdout",
     "output_type": "stream",
     "text": [
      "🚘 Datos del nuevo auto:\n"
     ]
    },
    {
     "data": {
      "text/html": [
       "<div>\n",
       "<style scoped>\n",
       "    .dataframe tbody tr th:only-of-type {\n",
       "        vertical-align: middle;\n",
       "    }\n",
       "\n",
       "    .dataframe tbody tr th {\n",
       "        vertical-align: top;\n",
       "    }\n",
       "\n",
       "    .dataframe thead th {\n",
       "        text-align: right;\n",
       "    }\n",
       "</style>\n",
       "<table border=\"1\" class=\"dataframe\">\n",
       "  <thead>\n",
       "    <tr style=\"text-align: right;\">\n",
       "      <th></th>\n",
       "      <th>Model</th>\n",
       "      <th>Year</th>\n",
       "      <th>Region</th>\n",
       "      <th>Color</th>\n",
       "      <th>Fuel_Type</th>\n",
       "      <th>Transmission</th>\n",
       "      <th>Engine_Size_L</th>\n",
       "      <th>Mileage_KM</th>\n",
       "      <th>Sales_Volume</th>\n",
       "      <th>Sales_Classification</th>\n",
       "    </tr>\n",
       "  </thead>\n",
       "  <tbody>\n",
       "    <tr>\n",
       "      <th>0</th>\n",
       "      <td>X5</td>\n",
       "      <td>2022</td>\n",
       "      <td>Europe</td>\n",
       "      <td>Black</td>\n",
       "      <td>Petrol</td>\n",
       "      <td>Automatic</td>\n",
       "      <td>3.0</td>\n",
       "      <td>15000</td>\n",
       "      <td>200</td>\n",
       "      <td>High</td>\n",
       "    </tr>\n",
       "  </tbody>\n",
       "</table>\n",
       "</div>"
      ],
      "text/plain": [
       "  Model  Year  Region  Color Fuel_Type Transmission  Engine_Size_L  \\\n",
       "0    X5  2022  Europe  Black    Petrol    Automatic            3.0   \n",
       "\n",
       "   Mileage_KM  Sales_Volume Sales_Classification  \n",
       "0       15000           200                 High  "
      ]
     },
     "metadata": {},
     "output_type": "display_data"
    }
   ],
   "source": [
    "# Auto nuevo (ejemplo)\n",
    "nuevo_auto = pd.DataFrame([{\n",
    "    \"Model\": \"X5\",\n",
    "    \"Year\": 2022,\n",
    "    \"Region\": \"Europe\",\n",
    "    \"Color\": \"Black\",\n",
    "    \"Fuel_Type\": \"Petrol\",\n",
    "    \"Transmission\": \"Automatic\",\n",
    "    \"Engine_Size_L\": 3.0,\n",
    "    \"Mileage_KM\": 15000,\n",
    "    \"Sales_Volume\": 200,\n",
    "    \"Sales_Classification\": \"High\"\n",
    "}])\n",
    "\n",
    "print(\"🚘 Datos del nuevo auto:\")\n",
    "display(nuevo_auto)"
   ]
  },
  {
   "cell_type": "code",
   "execution_count": 4,
   "id": "b4dfd60b-b4ef-4701-85d4-b6a1993ec624",
   "metadata": {},
   "outputs": [
    {
     "name": "stdout",
     "output_type": "stream",
     "text": [
      "💰 Precio estimado del auto: 74,687.66 USD\n"
     ]
    }
   ],
   "source": [
    "# Predecir precio\n",
    "prediccion = pipeline.predict(nuevo_auto)\n",
    "\n",
    "print(f\"💰 Precio estimado del auto: {prediccion[0]:,.2f} USD\")"
   ]
  },
  {
   "cell_type": "code",
   "execution_count": 5,
   "id": "ad9ee5bf-1600-472b-9f3e-9b7c501a2965",
   "metadata": {},
   "outputs": [],
   "source": [
    "def predecir_precio(auto_dict):\n",
    "    df_auto = pd.DataFrame([auto_dict])\n",
    "    return pipeline.predict(df_auto)[0]"
   ]
  },
  {
   "cell_type": "code",
   "execution_count": 6,
   "id": "66bbeb6f-d24b-4f11-9d4d-8a0c4b16522d",
   "metadata": {},
   "outputs": [
    {
     "name": "stdout",
     "output_type": "stream",
     "text": [
      "💰 Precio estimado: 75,673.90 USD\n"
     ]
    }
   ],
   "source": [
    "precio = predecir_precio({\n",
    "    \"Model\": \"3 Series\",\n",
    "    \"Year\": 2021,\n",
    "    \"Region\": \"North America\",\n",
    "    \"Color\": \"White\",\n",
    "    \"Fuel_Type\": \"Diesel\",\n",
    "    \"Transmission\": \"Manual\",\n",
    "    \"Engine_Size_L\": 2.0,\n",
    "    \"Mileage_KM\": 30000,\n",
    "    \"Sales_Volume\": 150,\n",
    "    \"Sales_Classification\": \"Medium\"\n",
    "})\n",
    "\n",
    "print(f\"💰 Precio estimado: {precio:,.2f} USD\")"
   ]
  },
  {
   "cell_type": "code",
   "execution_count": null,
   "id": "de381baf-24f5-4ccd-8815-f03178cc3fba",
   "metadata": {},
   "outputs": [],
   "source": []
  }
 ],
 "metadata": {
  "kernelspec": {
   "display_name": "Python 3 (ipykernel)",
   "language": "python",
   "name": "python3"
  },
  "language_info": {
   "codemirror_mode": {
    "name": "ipython",
    "version": 3
   },
   "file_extension": ".py",
   "mimetype": "text/x-python",
   "name": "python",
   "nbconvert_exporter": "python",
   "pygments_lexer": "ipython3",
   "version": "3.11.9"
  }
 },
 "nbformat": 4,
 "nbformat_minor": 5
}
