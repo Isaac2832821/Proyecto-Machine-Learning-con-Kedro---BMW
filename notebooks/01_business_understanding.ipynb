{
 "cells": [
  {
   "cell_type": "markdown",
   "id": "0193e948",
   "metadata": {},
   "source": [
    "# Fase 1 - Comprensión del Negocio\n",
    "\n",
    "## 1. Objetivos del Proyecto\n",
    "- Analizar datos de BMW (ventas, clasificación, autos usados).\n",
    "- Identificar patrones relevantes para la toma de decisiones.\n",
    "- Preparar el terreno para modelos de Machine Learning.\n",
    "\n",
    "## 2. Situación Actual\n",
    "- Dataset 1: `bmw_sales` → Ventas históricas de BMW.\n",
    "- Dataset 2: `bmw_classification` → Clasificación de modelos BMW.\n",
    "- Dataset 3: `bmw_used` → Información de autos usados.\n",
    "\n",
    "Limitaciones:\n",
    "- Datos en bruto sin limpieza.\n",
    "- Fuentes separadas en diferentes archivos.\n",
    "- Posibles valores faltantes y duplicados.\n",
    "\n",
    "## 3. Objetivos de Machine Learning\n",
    "- **Regresión**: predecir el precio de un auto usado.\n",
    "- **Clasificación**: determinar la categoría de un modelo BMW.\n",
    "- **Predicción de ventas**: estimar ventas futuras de un modelo.\n",
    "\n",
    "## 4. Plan del Proyecto\n",
    "- Fase 1: Comprensión del negocio.\n",
    "- Fase 2: Comprensión de los datos (EDA).\n",
    "- Fase 3: Preparación de los datos.\n",
    "- Fases futuras: Modelado y evaluación.\n",
    "\n",
    "## 5. Posibles Targets\n",
    "- `price` (numérico → regresión).\n",
    "- `model` (categórico → clasificación).\n",
    "- `sales` (numérico → regresión).\n"
   ]
  }
 ],
 "metadata": {
  "kernelspec": {
   "display_name": "Python 3 (ipykernel)",
   "language": "python",
   "name": "python3"
  },
  "language_info": {
   "codemirror_mode": {
    "name": "ipython",
    "version": 3
   },
   "file_extension": ".py",
   "mimetype": "text/x-python",
   "name": "python",
   "nbconvert_exporter": "python",
   "pygments_lexer": "ipython3",
   "version": "3.11.9"
  }
 },
 "nbformat": 4,
 "nbformat_minor": 5
}
