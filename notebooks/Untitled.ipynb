{
 "cells": [
  {
   "cell_type": "code",
   "execution_count": 2,
   "id": "a9cabe55-4b1e-4db8-ac04-1cb35f85273a",
   "metadata": {},
   "outputs": [
    {
     "name": "stdout",
     "output_type": "stream",
     "text": [
      "      Model  Year         Region  Color Fuel_Type Transmission  Engine_Size_L  \\\n",
      "0  5 Series  2016           Asia    Red    Petrol       Manual            3.5   \n",
      "1        i8  2013  North America    Red    Hybrid    Automatic            1.6   \n",
      "2  5 Series  2022  North America   Blue    Petrol    Automatic            4.5   \n",
      "3        X3  2024    Middle East   Blue    Petrol    Automatic            1.7   \n",
      "4  7 Series  2020  South America  Black    Diesel       Manual            2.1   \n",
      "\n",
      "   Mileage_KM  Price_USD  Sales_Volume Sales_Classification  \n",
      "0      151748      98740          8300                 High  \n",
      "1      121671      79219          3428                  Low  \n",
      "2       10991     113265          6994                  Low  \n",
      "3       27255      60971          4047                  Low  \n",
      "4      122131      49898          3080                  Low  \n"
     ]
    }
   ],
   "source": [
    "import pandas as pd\n",
    "\n",
    "df_sales = pd.read_csv(\"../data/01_raw/bmw_sales.csv\")\n",
    "print(df_sales.head())"
   ]
  },
  {
   "cell_type": "code",
   "execution_count": null,
   "id": "6bec5ed7-fdc7-4d54-a2cf-3a36694af296",
   "metadata": {},
   "outputs": [],
   "source": []
  }
 ],
 "metadata": {
  "kernelspec": {
   "display_name": "Python 3 (ipykernel)",
   "language": "python",
   "name": "python3"
  },
  "language_info": {
   "codemirror_mode": {
    "name": "ipython",
    "version": 3
   },
   "file_extension": ".py",
   "mimetype": "text/x-python",
   "name": "python",
   "nbconvert_exporter": "python",
   "pygments_lexer": "ipython3",
   "version": "3.11.9"
  }
 },
 "nbformat": 4,
 "nbformat_minor": 5
}
